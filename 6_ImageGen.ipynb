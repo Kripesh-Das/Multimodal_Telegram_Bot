{
 "cells": [
  {
   "cell_type": "code",
   "execution_count": 8,
   "id": "75e629b8",
   "metadata": {},
   "outputs": [],
   "source": [
    "import os, getpass \n",
    "\n",
    "def set_env(var: str):\n",
    "    if not os.environ.get(var):\n",
    "        os.environ[var] = getpass.getpass(f\"{var}: \")\n",
    "        \n",
    "set_env(\"OPENAI_API_KEY\")"
   ]
  },
  {
   "cell_type": "code",
   "execution_count": 9,
   "id": "83be9372",
   "metadata": {},
   "outputs": [],
   "source": [
    "prompt =    \"\"\"\n",
    "Create a cartoon picture of Isabelle Adjani from Possession 1981 in that iconic dress with navy blue and blacks with heels\n",
    "            \"\"\""
   ]
  },
  {
   "cell_type": "code",
   "execution_count": null,
   "id": "5c38cb82",
   "metadata": {},
   "outputs": [],
   "source": [
    "import base64\n",
    "from io import BytesIO\n",
    "from PIL import Image\n",
    "\n",
    "from openai import OpenAI\n",
    "\n",
    "client = OpenAI()\n",
    "\n",
    "result = client.images.generate(\n",
    "    model=\"dall-e-3\",  \n",
    "    prompt=prompt,\n",
    "    quality=\"standard\",  \n",
    "    size=\"1024x1024\",\n",
    "    response_format=\"b64_json\",  \n",
    ")\n",
    "\n",
    "image_base64 = result.data[0].b64_json\n",
    "image_bytes = base64.b64decode(image_base64)  # Fixed: base → base64\n",
    "\n",
    "image = Image.open(BytesIO(image_bytes))\n",
    "image.save(\"bot.png\")"
   ]
  }
 ],
 "metadata": {
  "kernelspec": {
   "display_name": ".venv",
   "language": "python",
   "name": "python3"
  },
  "language_info": {
   "codemirror_mode": {
    "name": "ipython",
    "version": 3
   },
   "file_extension": ".py",
   "mimetype": "text/x-python",
   "name": "python",
   "nbconvert_exporter": "python",
   "pygments_lexer": "ipython3",
   "version": "3.12.7"
  }
 },
 "nbformat": 4,
 "nbformat_minor": 5
}
